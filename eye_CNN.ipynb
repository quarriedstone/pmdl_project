{
  "nbformat": 4,
  "nbformat_minor": 0,
  "metadata": {
    "colab": {
      "name": "eye_CNN.ipynb",
      "provenance": []
    },
    "kernelspec": {
      "name": "python3",
      "display_name": "Python 3"
    },
    "accelerator": "GPU"
  },
  "cells": [
    {
      "cell_type": "code",
      "metadata": {
        "id": "0E-G0qABnFM1",
        "colab_type": "code",
        "outputId": "44f17e31-e598-4037-f506-a004a46ecb50",
        "colab": {
          "base_uri": "https://localhost:8080/",
          "height": 80
        }
      },
      "source": [
        "import numpy as np\n",
        "import keras\n",
        "from keras import Sequential, Model\n",
        "from keras.layers import Conv2D, UpSampling2D, concatenate, Input, Reshape, Conv2DTranspose\n",
        "import cv2\n",
        "from keras.optimizers import SGD\n",
        "import matplotlib.pyplot as plt\n",
        "from sklearn.model_selection import train_test_split"
      ],
      "execution_count": 0,
      "outputs": [
        {
          "output_type": "stream",
          "text": [
            "Using TensorFlow backend.\n"
          ],
          "name": "stderr"
        },
        {
          "output_type": "display_data",
          "data": {
            "text/html": [
              "<p style=\"color: red;\">\n",
              "The default version of TensorFlow in Colab will soon switch to TensorFlow 2.x.<br>\n",
              "We recommend you <a href=\"https://www.tensorflow.org/guide/migrate\" target=\"_blank\">upgrade</a> now \n",
              "or ensure your notebook will continue to use TensorFlow 1.x via the <code>%tensorflow_version 1.x</code> magic:\n",
              "<a href=\"https://colab.research.google.com/notebooks/tensorflow_version.ipynb\" target=\"_blank\">more info</a>.</p>\n"
            ],
            "text/plain": [
              "<IPython.core.display.HTML object>"
            ]
          },
          "metadata": {
            "tags": []
          }
        }
      ]
    },
    {
      "cell_type": "code",
      "metadata": {
        "id": "xQzlEONIJBab",
        "colab_type": "code",
        "outputId": "aaf3e2f1-ecc1-4600-cf4a-e0cdd530383e",
        "colab": {
          "base_uri": "https://localhost:8080/",
          "height": 139
        }
      },
      "source": [
        "from google.colab import drive\n",
        "drive.mount('/content/drive')\n",
        "gi4e_X = np.load('/content/drive/My Drive/eye_trackdata/gi4e_X.npy')/255\n",
        "gi4e_Y = np.load('/content/drive/My Drive/eye_trackdata/pure_gi4e_Y.npy')/255\n",
        "X_train, X_test, y_train, y_test = train_test_split(gi4e_X, gi4e_Y, test_size=0.3, random_state=42)\n",
        "X_test.shape\n"
      ],
      "execution_count": 0,
      "outputs": [
        {
          "output_type": "stream",
          "text": [
            "Go to this URL in a browser: https://accounts.google.com/o/oauth2/auth?client_id=947318989803-6bn6qk8qdgf4n4g3pfee6491hc0brc4i.apps.googleusercontent.com&redirect_uri=urn%3aietf%3awg%3aoauth%3a2.0%3aoob&response_type=code&scope=email%20https%3a%2f%2fwww.googleapis.com%2fauth%2fdocs.test%20https%3a%2f%2fwww.googleapis.com%2fauth%2fdrive%20https%3a%2f%2fwww.googleapis.com%2fauth%2fdrive.photos.readonly%20https%3a%2f%2fwww.googleapis.com%2fauth%2fpeopleapi.readonly\n",
            "\n",
            "Enter your authorization code:\n",
            "··········\n",
            "Mounted at /content/drive\n"
          ],
          "name": "stdout"
        },
        {
          "output_type": "execute_result",
          "data": {
            "text/plain": [
              "(742, 48, 48, 1)"
            ]
          },
          "metadata": {
            "tags": []
          },
          "execution_count": 2
        }
      ]
    },
    {
      "cell_type": "code",
      "metadata": {
        "id": "yhQ4U9MfMTRu",
        "colab_type": "code",
        "colab": {}
      },
      "source": [
        "# load fiiting data\n",
        "fitting_x = np.load('/content/drive/My Drive/eye_trackdata/fitting_x.npy', allow_pickle=True)/255\n",
        "fitting_y = np.load('/content/drive/My Drive/eye_trackdata/fitting_y.npy', allow_pickle=True)/255\n",
        "# fitting_x = np.array(fitting[:,1])\n",
        "fitting_x = fitting_x.reshape(500,48,48,1)\n",
        "fitting_y = fitting_y.reshape(500,48,48,1)\n",
        "# fit_x = "
      ],
      "execution_count": 0,
      "outputs": []
    },
    {
      "cell_type": "code",
      "metadata": {
        "id": "1zNolkGqMEwv",
        "colab_type": "code",
        "outputId": "c64f144c-bc19-4fd6-b9c3-efa3151ac905",
        "colab": {
          "base_uri": "https://localhost:8080/",
          "height": 34
        }
      },
      "source": [
        "y_train.shape"
      ],
      "execution_count": 0,
      "outputs": [
        {
          "output_type": "execute_result",
          "data": {
            "text/plain": [
              "(1730, 48, 48, 1)"
            ]
          },
          "metadata": {
            "tags": []
          },
          "execution_count": 14
        }
      ]
    },
    {
      "cell_type": "code",
      "metadata": {
        "id": "oN1EyMSjr4oz",
        "colab_type": "code",
        "colab": {}
      },
      "source": [
        "activation = 'tanh'\n",
        "inlayer = Input(shape=(48, 48, 1))\n",
        "x = Conv2D(64, (3, 3),strides =(1,1), activation=activation, padding = 'same')(inlayer)\n",
        "y = Conv2D(128, (3, 3),strides =(2,2), activation=activation, padding = 'same')(x)\n",
        "y1 = Conv2D(256, (3, 3),strides =(2,2), activation=activation, padding = 'same')(y)\n",
        "y = Conv2DTranspose(64, (3, 3),strides =(4,4), activation=activation, padding = 'same')(y1)\n",
        "# y = UpSampling2D(size=(2, 2), interpolation='bilinear')(y1)\n",
        "# y = Reshape((48, 48, 64))(y)\n",
        "\n",
        "o = concatenate([x, y])\n",
        "o = Conv2DTranspose(64, (3, 3),strides =(1,1), activation=activation, padding = 'same')(o)\n",
        "o = Conv2DTranspose(1, (3, 3),strides =(1,1), activation=activation, padding = 'same')(o)\n",
        "\n",
        "decoder = Conv2DTranspose(256, (3, 3),strides =(1,1), activation=activation, padding = 'same')(y1)\n",
        "decoder = Conv2DTranspose(128, (3, 3),strides =(2,2), activation=activation, padding = 'same')(decoder)\n",
        "decoder = Conv2DTranspose(64, (3, 3),strides =(2,2), activation=activation, padding = 'same')(decoder)\n",
        "decoder = Conv2DTranspose(1, (3, 3),strides =(1,1), activation=activation, padding = 'same')(decoder)\n",
        "# decoder = UpSampling2D(size=(2, 2), interpolation='bilinear')(decoder)\n",
        "model1 = Model(inputs=inlayer,outputs=[o,decoder])\n",
        "# model2 = Model(inputs=inlayer,outputs=[o,decoder])\n",
        "\n"
      ],
      "execution_count": 0,
      "outputs": []
    },
    {
      "cell_type": "code",
      "metadata": {
        "id": "yOPWo99oj7Ui",
        "colab_type": "code",
        "colab": {}
      },
      "source": [
        "\n",
        "# opt = SGD(lr=0.01)\n",
        "model1.compile(optimizer='rmsprop',\n",
        "              loss='mse')\n",
        "# model2.compile(optimizer='rmsprop',\n",
        "            #   loss='mse')"
      ],
      "execution_count": 0,
      "outputs": []
    },
    {
      "cell_type": "code",
      "metadata": {
        "id": "3SNFWGaGkSCL",
        "colab_type": "code",
        "colab": {}
      },
      "source": [
        "model1.fit(X_train, [y_train,X_train], epochs=100, batch_size=32)\n",
        "# model2.fit(X_train, [y_train,X_train], epochs=100, batch_size=32)"
      ],
      "execution_count": 0,
      "outputs": []
    },
    {
      "cell_type": "code",
      "metadata": {
        "id": "1zOmUjwBO2Xb",
        "colab_type": "code",
        "colab": {}
      },
      "source": [
        "# tune\n",
        "model1.fit(fitting_x[:450], [fitting_y[:450],fitting_x[:450]], epochs=100, batch_size=32)"
      ],
      "execution_count": 0,
      "outputs": []
    },
    {
      "cell_type": "code",
      "metadata": {
        "id": "2qtdWyhzeFY0",
        "colab_type": "code",
        "outputId": "1676d3ee-5f75-42f2-9eb6-c9ba231d2ba9",
        "colab": {
          "base_uri": "https://localhost:8080/",
          "height": 51
        }
      },
      "source": [
        "model.evaluate(X_test, [y_test,X_test])"
      ],
      "execution_count": 0,
      "outputs": [
        {
          "output_type": "stream",
          "text": [
            "742/742 [==============================] - 1s 724us/step\n"
          ],
          "name": "stdout"
        },
        {
          "output_type": "execute_result",
          "data": {
            "text/plain": [
              "[0.0038609967932275763, 0.00043125213065807206, 0.0034297446693943917]"
            ]
          },
          "metadata": {
            "tags": []
          },
          "execution_count": 6
        }
      ]
    },
    {
      "cell_type": "code",
      "metadata": {
        "id": "_oOxCjEMegue",
        "colab_type": "code",
        "colab": {}
      },
      "source": [
        "model.save('eye_CNN', model)"
      ],
      "execution_count": 0,
      "outputs": []
    },
    {
      "cell_type": "code",
      "metadata": {
        "id": "BKmLTQBoTA3l",
        "colab_type": "code",
        "colab": {}
      },
      "source": [
        "pic = fitting_x[sample,:,:,0]*255\n",
        "# pic = cv2.imread('/content/yaf.jpg')\n",
        "# pic = cv2.cvtColor(pic, cv2.COLOR_BGR2GRAY)\n",
        "cv2.circle(pic, (26,24),1, 255)\n",
        "plt.imshow(pic)"
      ],
      "execution_count": 0,
      "outputs": []
    },
    {
      "cell_type": "code",
      "metadata": {
        "id": "S7BKFO3GTWvx",
        "colab_type": "code",
        "outputId": "2a3aaedc-ab00-42aa-fc21-9449b3565e3f",
        "colab": {
          "base_uri": "https://localhost:8080/",
          "height": 301
        }
      },
      "source": [
        "sample  = 452\n",
        "pic1 = model1.predict(fitting_x[sample].reshape(1,48,48,1))[0]*255\n",
        "# pic2 = model2.predict(X_test[sample].reshape(1,48,48,1))[0]*255\n",
        "# pic = model.predict(pic.reshape(1,48,48,1)/255)[0]*255\n",
        "plt.imshow(pic1[0,:,:,0])\n",
        "point1 = np.argwhere(pic1.max() == pic1)\n",
        "point2 = np.argwhere(fitting_y[sample].max() == fitting_y[sample])\n",
        "# point2 = np.argwhere(pic2.max() == pic2)\n",
        "print(point1)\n",
        "print(point2)\n",
        "# plt.imshow(pic1)"
      ],
      "execution_count": 0,
      "outputs": [
        {
          "output_type": "stream",
          "text": [
            "[[ 0 24 26  0]]\n",
            "[[23 25  0]]\n"
          ],
          "name": "stdout"
        },
        {
          "output_type": "display_data",
          "data": {
            "image/png": "[encoded data removed]",
            "text/plain": [
              "<Figure size 432x288 with 1 Axes>"
            ]
          },
          "metadata": {
            "tags": []
          }
        }
      ]
    },
    {
      "cell_type": "code",
      "metadata": {
        "id": "FVRK8ZZWk2cv",
        "colab_type": "code",
        "colab": {}
      },
      "source": [
        "# !pip install tf-nightly\n",
        "model.fit(frame)"
      ],
      "execution_count": 0,
      "outputs": []
    },
    {
      "cell_type": "code",
      "metadata": {
        "id": "mJknAtgfk4U8",
        "colab_type": "code",
        "colab": {}
      },
      "source": [
        ""
      ],
      "execution_count": 0,
      "outputs": []
    }
  ]
}